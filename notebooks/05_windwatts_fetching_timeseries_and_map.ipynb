{
 "cells": [
  {
   "cell_type": "markdown",
   "metadata": {},
   "source": [
    "### This notebook guides the user regarding how to fetch timeseries and map data for a specific/all location at runtime.\n"
   ]
  },
  {
   "cell_type": "code",
   "execution_count": null,
   "metadata": {},
   "outputs": [],
   "source": [
    "from windwatts_data import WTKLedClient1224"
   ]
  },
  {
   "cell_type": "code",
   "execution_count": 2,
   "metadata": {},
   "outputs": [
    {
     "name": "stderr",
     "output_type": "stream",
     "text": [
      "Fetching results...: 3polls [00:03,  1.25s/polls]\n"
     ]
    }
   ],
   "source": [
    "# Initialize object to the WTKLedClient1224\n",
    "# Since the config file is in same directory \"notebooks\" as the \".ipynb\" file, the below config path works.\n",
    "wtk = WTKLedClient1224(config_path='./1224_config.json')"
   ]
  },
  {
   "cell_type": "markdown",
   "metadata": {},
   "source": [
    "#### Robust function for fetching both timeseries and map.\n",
    "\n",
    "**fetch_filtered_data_1224()** is more robust version to fetch both timeseries(location specific) and map(non-locations specific) data which provides user with more parameters to retrieve data.\n",
    "Please refer to the documentation to know more about the function's features.\n",
    "The **fetch_timeseries_1224()**, **fetch_windspeed_map_1224()** and **fetch_winddirection_map_1224()** were the safe function as they restricted user in terms of paramaters as it was done intentionally to safe gaurd user from performing costly queries if same can be achieved using earlier functions.\n",
    "\n",
    "**fetch_filtered_data_1224()*** gives the user full freedom to perform complex queries."
   ]
  },
  {
   "cell_type": "code",
   "execution_count": 3,
   "metadata": {},
   "outputs": [
    {
     "name": "stderr",
     "output_type": "stream",
     "text": [
      "Fetching results...: 1polls [00:00,  1.61polls/s]\n"
     ]
    }
   ],
   "source": [
    "# fetching desired columns for specified location and year.\n",
    "df = wtk.fetch_filtered_data_1224(columns=['windspeed_100m','winddirection_100m','mohr'],lat=39.90270,long=-82.98916,years=[2001],n_nearest=2)"
   ]
  },
  {
   "cell_type": "code",
   "execution_count": 4,
   "metadata": {},
   "outputs": [
    {
     "data": {
      "text/html": [
       "<div>\n",
       "<style scoped>\n",
       "    .dataframe tbody tr th:only-of-type {\n",
       "        vertical-align: middle;\n",
       "    }\n",
       "\n",
       "    .dataframe tbody tr th {\n",
       "        vertical-align: top;\n",
       "    }\n",
       "\n",
       "    .dataframe thead th {\n",
       "        text-align: right;\n",
       "    }\n",
       "</style>\n",
       "<table border=\"1\" class=\"dataframe\">\n",
       "  <thead>\n",
       "    <tr style=\"text-align: right;\">\n",
       "      <th></th>\n",
       "      <th>windspeed_100m</th>\n",
       "      <th>winddirection_100m</th>\n",
       "      <th>mohr</th>\n",
       "      <th>index</th>\n",
       "    </tr>\n",
       "  </thead>\n",
       "  <tbody>\n",
       "    <tr>\n",
       "      <th>0</th>\n",
       "      <td>8.57</td>\n",
       "      <td>235.60</td>\n",
       "      <td>101</td>\n",
       "      <td>1b2e7e</td>\n",
       "    </tr>\n",
       "    <tr>\n",
       "      <th>1</th>\n",
       "      <td>9.64</td>\n",
       "      <td>248.90</td>\n",
       "      <td>102</td>\n",
       "      <td>1b2e7e</td>\n",
       "    </tr>\n",
       "    <tr>\n",
       "      <th>2</th>\n",
       "      <td>9.35</td>\n",
       "      <td>244.47</td>\n",
       "      <td>103</td>\n",
       "      <td>1b2e7e</td>\n",
       "    </tr>\n",
       "    <tr>\n",
       "      <th>3</th>\n",
       "      <td>9.51</td>\n",
       "      <td>245.31</td>\n",
       "      <td>104</td>\n",
       "      <td>1b2e7e</td>\n",
       "    </tr>\n",
       "    <tr>\n",
       "      <th>4</th>\n",
       "      <td>8.91</td>\n",
       "      <td>241.61</td>\n",
       "      <td>105</td>\n",
       "      <td>1b2e7e</td>\n",
       "    </tr>\n",
       "    <tr>\n",
       "      <th>...</th>\n",
       "      <td>...</td>\n",
       "      <td>...</td>\n",
       "      <td>...</td>\n",
       "      <td>...</td>\n",
       "    </tr>\n",
       "    <tr>\n",
       "      <th>571</th>\n",
       "      <td>5.38</td>\n",
       "      <td>233.07</td>\n",
       "      <td>1220</td>\n",
       "      <td>1b2e7f</td>\n",
       "    </tr>\n",
       "    <tr>\n",
       "      <th>572</th>\n",
       "      <td>5.86</td>\n",
       "      <td>230.06</td>\n",
       "      <td>1221</td>\n",
       "      <td>1b2e7f</td>\n",
       "    </tr>\n",
       "    <tr>\n",
       "      <th>573</th>\n",
       "      <td>6.05</td>\n",
       "      <td>230.55</td>\n",
       "      <td>1222</td>\n",
       "      <td>1b2e7f</td>\n",
       "    </tr>\n",
       "    <tr>\n",
       "      <th>574</th>\n",
       "      <td>6.65</td>\n",
       "      <td>231.77</td>\n",
       "      <td>1223</td>\n",
       "      <td>1b2e7f</td>\n",
       "    </tr>\n",
       "    <tr>\n",
       "      <th>575</th>\n",
       "      <td>7.09</td>\n",
       "      <td>234.65</td>\n",
       "      <td>1224</td>\n",
       "      <td>1b2e7f</td>\n",
       "    </tr>\n",
       "  </tbody>\n",
       "</table>\n",
       "<p>576 rows × 4 columns</p>\n",
       "</div>"
      ],
      "text/plain": [
       "     windspeed_100m  winddirection_100m  mohr   index\n",
       "0              8.57              235.60   101  1b2e7e\n",
       "1              9.64              248.90   102  1b2e7e\n",
       "2              9.35              244.47   103  1b2e7e\n",
       "3              9.51              245.31   104  1b2e7e\n",
       "4              8.91              241.61   105  1b2e7e\n",
       "..              ...                 ...   ...     ...\n",
       "571            5.38              233.07  1220  1b2e7f\n",
       "572            5.86              230.06  1221  1b2e7f\n",
       "573            6.05              230.55  1222  1b2e7f\n",
       "574            6.65              231.77  1223  1b2e7f\n",
       "575            7.09              234.65  1224  1b2e7f\n",
       "\n",
       "[576 rows x 4 columns]"
      ]
     },
     "execution_count": 4,
     "metadata": {},
     "output_type": "execute_result"
    }
   ],
   "source": [
    "df"
   ]
  },
  {
   "cell_type": "markdown",
   "metadata": {},
   "source": [
    "\n",
    "This function functions similarly to the fetch_windspeed_timeseries_1224(). But it offers more control over selection of more columns, selection by time and doesn't restrict user to a number of nearest location(1-16) as it was in case of the safe function. n_nearest is optional here when given along with latitude and longitude. No need to specify n_nearest when you are not specifying latitude and longitude as all locations will be considered."
   ]
  },
  {
   "cell_type": "markdown",
   "metadata": {},
   "source": [
    "#### Fetching timeseries"
   ]
  },
  {
   "cell_type": "code",
   "execution_count": 5,
   "metadata": {},
   "outputs": [
    {
     "name": "stderr",
     "output_type": "stream",
     "text": [
      "Fetching results...: 1polls [00:00,  1.60polls/s]\n"
     ]
    }
   ],
   "source": [
    "# fetching desired columns for specified location, year, month and hour.\n",
    "df = wtk.fetch_filtered_data_1224(columns=['windspeed_100m','winddirection_100m','mohr'],lat=39.90270,long=-82.98916,years=[2001],months=[2],hours=[12])"
   ]
  },
  {
   "cell_type": "code",
   "execution_count": 6,
   "metadata": {},
   "outputs": [
    {
     "data": {
      "text/html": [
       "<div>\n",
       "<style scoped>\n",
       "    .dataframe tbody tr th:only-of-type {\n",
       "        vertical-align: middle;\n",
       "    }\n",
       "\n",
       "    .dataframe tbody tr th {\n",
       "        vertical-align: top;\n",
       "    }\n",
       "\n",
       "    .dataframe thead th {\n",
       "        text-align: right;\n",
       "    }\n",
       "</style>\n",
       "<table border=\"1\" class=\"dataframe\">\n",
       "  <thead>\n",
       "    <tr style=\"text-align: right;\">\n",
       "      <th></th>\n",
       "      <th>windspeed_100m</th>\n",
       "      <th>winddirection_100m</th>\n",
       "      <th>mohr</th>\n",
       "      <th>index</th>\n",
       "    </tr>\n",
       "  </thead>\n",
       "  <tbody>\n",
       "    <tr>\n",
       "      <th>0</th>\n",
       "      <td>7.63</td>\n",
       "      <td>279.12</td>\n",
       "      <td>212</td>\n",
       "      <td>1b2e7e</td>\n",
       "    </tr>\n",
       "  </tbody>\n",
       "</table>\n",
       "</div>"
      ],
      "text/plain": [
       "   windspeed_100m  winddirection_100m  mohr   index\n",
       "0            7.63              279.12   212  1b2e7e"
      ]
     },
     "execution_count": 6,
     "metadata": {},
     "output_type": "execute_result"
    }
   ],
   "source": [
    "df"
   ]
  },
  {
   "cell_type": "code",
   "execution_count": 7,
   "metadata": {},
   "outputs": [
    {
     "name": "stderr",
     "output_type": "stream",
     "text": [
      "Fetching results...: 1polls [00:00,  1.60polls/s]\n"
     ]
    }
   ],
   "source": [
    "# user can also specify multiple years, months and hours.\n",
    "df = wtk.fetch_filtered_data_1224(columns=['windspeed_100m','winddirection_100m','mohr'],lat=39.90270,long=-82.98916,years=[2001],months=[2,3],hours=[12,1],n_nearest=2)"
   ]
  },
  {
   "cell_type": "code",
   "execution_count": 8,
   "metadata": {},
   "outputs": [
    {
     "data": {
      "text/html": [
       "<div>\n",
       "<style scoped>\n",
       "    .dataframe tbody tr th:only-of-type {\n",
       "        vertical-align: middle;\n",
       "    }\n",
       "\n",
       "    .dataframe tbody tr th {\n",
       "        vertical-align: top;\n",
       "    }\n",
       "\n",
       "    .dataframe thead th {\n",
       "        text-align: right;\n",
       "    }\n",
       "</style>\n",
       "<table border=\"1\" class=\"dataframe\">\n",
       "  <thead>\n",
       "    <tr style=\"text-align: right;\">\n",
       "      <th></th>\n",
       "      <th>windspeed_100m</th>\n",
       "      <th>winddirection_100m</th>\n",
       "      <th>mohr</th>\n",
       "      <th>index</th>\n",
       "    </tr>\n",
       "  </thead>\n",
       "  <tbody>\n",
       "    <tr>\n",
       "      <th>0</th>\n",
       "      <td>9.67</td>\n",
       "      <td>229.34</td>\n",
       "      <td>201</td>\n",
       "      <td>1b2e7e</td>\n",
       "    </tr>\n",
       "    <tr>\n",
       "      <th>1</th>\n",
       "      <td>7.63</td>\n",
       "      <td>279.12</td>\n",
       "      <td>212</td>\n",
       "      <td>1b2e7e</td>\n",
       "    </tr>\n",
       "    <tr>\n",
       "      <th>2</th>\n",
       "      <td>8.15</td>\n",
       "      <td>317.10</td>\n",
       "      <td>301</td>\n",
       "      <td>1b2e7e</td>\n",
       "    </tr>\n",
       "    <tr>\n",
       "      <th>3</th>\n",
       "      <td>7.59</td>\n",
       "      <td>332.10</td>\n",
       "      <td>312</td>\n",
       "      <td>1b2e7e</td>\n",
       "    </tr>\n",
       "    <tr>\n",
       "      <th>4</th>\n",
       "      <td>9.68</td>\n",
       "      <td>229.98</td>\n",
       "      <td>201</td>\n",
       "      <td>1b2e7f</td>\n",
       "    </tr>\n",
       "    <tr>\n",
       "      <th>5</th>\n",
       "      <td>7.54</td>\n",
       "      <td>280.77</td>\n",
       "      <td>212</td>\n",
       "      <td>1b2e7f</td>\n",
       "    </tr>\n",
       "    <tr>\n",
       "      <th>6</th>\n",
       "      <td>8.28</td>\n",
       "      <td>316.05</td>\n",
       "      <td>301</td>\n",
       "      <td>1b2e7f</td>\n",
       "    </tr>\n",
       "    <tr>\n",
       "      <th>7</th>\n",
       "      <td>7.62</td>\n",
       "      <td>331.03</td>\n",
       "      <td>312</td>\n",
       "      <td>1b2e7f</td>\n",
       "    </tr>\n",
       "  </tbody>\n",
       "</table>\n",
       "</div>"
      ],
      "text/plain": [
       "   windspeed_100m  winddirection_100m  mohr   index\n",
       "0            9.67              229.34   201  1b2e7e\n",
       "1            7.63              279.12   212  1b2e7e\n",
       "2            8.15              317.10   301  1b2e7e\n",
       "3            7.59              332.10   312  1b2e7e\n",
       "4            9.68              229.98   201  1b2e7f\n",
       "5            7.54              280.77   212  1b2e7f\n",
       "6            8.28              316.05   301  1b2e7f\n",
       "7            7.62              331.03   312  1b2e7f"
      ]
     },
     "execution_count": 8,
     "metadata": {},
     "output_type": "execute_result"
    }
   ],
   "source": [
    "df"
   ]
  },
  {
   "cell_type": "code",
   "execution_count": 9,
   "metadata": {},
   "outputs": [
    {
     "name": "stderr",
     "output_type": "stream",
     "text": [
      "Fetching results...: 1polls [00:00,  1.59polls/s]\n"
     ]
    }
   ],
   "source": [
    "# Instead of column names, users can also specify desired height(s) to extract columns specific to a height(s).\n",
    "df = wtk.fetch_filtered_data_1224(heights=[100],lat=39.90270,long=-82.98916,years=[2001,2002],months=[2],hours=[12])"
   ]
  },
  {
   "cell_type": "code",
   "execution_count": 10,
   "metadata": {},
   "outputs": [
    {
     "data": {
      "text/html": [
       "<div>\n",
       "<style scoped>\n",
       "    .dataframe tbody tr th:only-of-type {\n",
       "        vertical-align: middle;\n",
       "    }\n",
       "\n",
       "    .dataframe tbody tr th {\n",
       "        vertical-align: top;\n",
       "    }\n",
       "\n",
       "    .dataframe thead th {\n",
       "        text-align: right;\n",
       "    }\n",
       "</style>\n",
       "<table border=\"1\" class=\"dataframe\">\n",
       "  <thead>\n",
       "    <tr style=\"text-align: right;\">\n",
       "      <th></th>\n",
       "      <th>pressure_100m</th>\n",
       "      <th>temperature_100m</th>\n",
       "      <th>winddirection_100m</th>\n",
       "      <th>windspeed_100m</th>\n",
       "      <th>mohr</th>\n",
       "      <th>year</th>\n",
       "      <th>index</th>\n",
       "    </tr>\n",
       "  </thead>\n",
       "  <tbody>\n",
       "    <tr>\n",
       "      <th>0</th>\n",
       "      <td>98570.0</td>\n",
       "      <td>-0.18</td>\n",
       "      <td>279.12</td>\n",
       "      <td>7.63</td>\n",
       "      <td>212</td>\n",
       "      <td>2001</td>\n",
       "      <td>1b2e7e</td>\n",
       "    </tr>\n",
       "    <tr>\n",
       "      <th>1</th>\n",
       "      <td>98220.0</td>\n",
       "      <td>-0.66</td>\n",
       "      <td>281.91</td>\n",
       "      <td>7.79</td>\n",
       "      <td>212</td>\n",
       "      <td>2002</td>\n",
       "      <td>1b2e7e</td>\n",
       "    </tr>\n",
       "  </tbody>\n",
       "</table>\n",
       "</div>"
      ],
      "text/plain": [
       "   pressure_100m  temperature_100m  winddirection_100m  windspeed_100m  mohr  \\\n",
       "0        98570.0             -0.18              279.12            7.63   212   \n",
       "1        98220.0             -0.66              281.91            7.79   212   \n",
       "\n",
       "   year   index  \n",
       "0  2001  1b2e7e  \n",
       "1  2002  1b2e7e  "
      ]
     },
     "execution_count": 10,
     "metadata": {},
     "output_type": "execute_result"
    }
   ],
   "source": [
    "df"
   ]
  },
  {
   "cell_type": "code",
   "execution_count": 11,
   "metadata": {},
   "outputs": [
    {
     "name": "stderr",
     "output_type": "stream",
     "text": [
      "Fetching results...: 1polls [00:00,  1.60polls/s]\n"
     ]
    }
   ],
   "source": [
    "# If a specific height doesn't exist in the columns, then the columns adjacent to the given height values will be returned. Columns with height 20m doesn't exist in the data.\n",
    "df = wtk.fetch_filtered_data_1224(heights=[20],lat=39.90270,long=-82.98916,years=[2001,2002],months=[2],hours=[12])"
   ]
  },
  {
   "cell_type": "code",
   "execution_count": 12,
   "metadata": {},
   "outputs": [
    {
     "data": {
      "text/html": [
       "<div>\n",
       "<style scoped>\n",
       "    .dataframe tbody tr th:only-of-type {\n",
       "        vertical-align: middle;\n",
       "    }\n",
       "\n",
       "    .dataframe tbody tr th {\n",
       "        vertical-align: top;\n",
       "    }\n",
       "\n",
       "    .dataframe thead th {\n",
       "        text-align: right;\n",
       "    }\n",
       "</style>\n",
       "<table border=\"1\" class=\"dataframe\">\n",
       "  <thead>\n",
       "    <tr style=\"text-align: right;\">\n",
       "      <th></th>\n",
       "      <th>temperature_30m</th>\n",
       "      <th>winddirection_10m</th>\n",
       "      <th>winddirection_30m</th>\n",
       "      <th>windspeed_10m</th>\n",
       "      <th>windspeed_30m</th>\n",
       "      <th>mohr</th>\n",
       "      <th>year</th>\n",
       "      <th>index</th>\n",
       "    </tr>\n",
       "  </thead>\n",
       "  <tbody>\n",
       "    <tr>\n",
       "      <th>0</th>\n",
       "      <td>-0.64</td>\n",
       "      <td>257.96</td>\n",
       "      <td>266.75</td>\n",
       "      <td>2.59</td>\n",
       "      <td>4.51</td>\n",
       "      <td>212</td>\n",
       "      <td>2002</td>\n",
       "      <td>1b2e7e</td>\n",
       "    </tr>\n",
       "    <tr>\n",
       "      <th>1</th>\n",
       "      <td>-0.26</td>\n",
       "      <td>243.36</td>\n",
       "      <td>262.87</td>\n",
       "      <td>2.29</td>\n",
       "      <td>4.12</td>\n",
       "      <td>212</td>\n",
       "      <td>2001</td>\n",
       "      <td>1b2e7e</td>\n",
       "    </tr>\n",
       "  </tbody>\n",
       "</table>\n",
       "</div>"
      ],
      "text/plain": [
       "   temperature_30m  winddirection_10m  winddirection_30m  windspeed_10m  \\\n",
       "0            -0.64             257.96             266.75           2.59   \n",
       "1            -0.26             243.36             262.87           2.29   \n",
       "\n",
       "   windspeed_30m  mohr  year   index  \n",
       "0           4.51   212  2002  1b2e7e  \n",
       "1           4.12   212  2001  1b2e7e  "
      ]
     },
     "execution_count": 12,
     "metadata": {},
     "output_type": "execute_result"
    }
   ],
   "source": [
    "df"
   ]
  },
  {
   "cell_type": "markdown",
   "metadata": {},
   "source": [
    "Note: You can either mention specific column names or specific heights, not both."
   ]
  },
  {
   "cell_type": "markdown",
   "metadata": {},
   "source": [
    "#### Fetching Map Data"
   ]
  },
  {
   "cell_type": "code",
   "execution_count": 13,
   "metadata": {},
   "outputs": [
    {
     "name": "stderr",
     "output_type": "stream",
     "text": [
      "Fetching results...: 1polls [00:00,  1.59polls/s]\n"
     ]
    },
    {
     "name": "stdout",
     "output_type": "stream",
     "text": [
      "Query result is stored at: s3://wtk-test-athena-results/e69cefa2-f9f4-421c-aac3-720cc0f3ef61.csv.\n"
     ]
    }
   ],
   "source": [
    "# fetching windspeed map data at 100m for a specific time.\n",
    "df = wtk.fetch_filtered_data_1224(columns=['windspeed_100m'],years=[2001],months=[2],hours=[12])"
   ]
  },
  {
   "cell_type": "code",
   "execution_count": 14,
   "metadata": {},
   "outputs": [
    {
     "data": {
      "text/html": [
       "<div>\n",
       "<style scoped>\n",
       "    .dataframe tbody tr th:only-of-type {\n",
       "        vertical-align: middle;\n",
       "    }\n",
       "\n",
       "    .dataframe tbody tr th {\n",
       "        vertical-align: top;\n",
       "    }\n",
       "\n",
       "    .dataframe thead th {\n",
       "        text-align: right;\n",
       "    }\n",
       "</style>\n",
       "<table border=\"1\" class=\"dataframe\">\n",
       "  <thead>\n",
       "    <tr style=\"text-align: right;\">\n",
       "      <th></th>\n",
       "      <th>windspeed_100m</th>\n",
       "      <th>index</th>\n",
       "    </tr>\n",
       "  </thead>\n",
       "  <tbody>\n",
       "    <tr>\n",
       "      <th>0</th>\n",
       "      <td>12.88</td>\n",
       "      <td>0002e7</td>\n",
       "    </tr>\n",
       "    <tr>\n",
       "      <th>1</th>\n",
       "      <td>14.35</td>\n",
       "      <td>00034a</td>\n",
       "    </tr>\n",
       "    <tr>\n",
       "      <th>2</th>\n",
       "      <td>12.91</td>\n",
       "      <td>00008c</td>\n",
       "    </tr>\n",
       "    <tr>\n",
       "      <th>3</th>\n",
       "      <td>12.48</td>\n",
       "      <td>00026d</td>\n",
       "    </tr>\n",
       "    <tr>\n",
       "      <th>4</th>\n",
       "      <td>7.76</td>\n",
       "      <td>0003c0</td>\n",
       "    </tr>\n",
       "    <tr>\n",
       "      <th>...</th>\n",
       "      <td>...</td>\n",
       "      <td>...</td>\n",
       "    </tr>\n",
       "    <tr>\n",
       "      <th>2599772</th>\n",
       "      <td>9.90</td>\n",
       "      <td>278d34</td>\n",
       "    </tr>\n",
       "    <tr>\n",
       "      <th>2599773</th>\n",
       "      <td>9.62</td>\n",
       "      <td>278e42</td>\n",
       "    </tr>\n",
       "    <tr>\n",
       "      <th>2599774</th>\n",
       "      <td>9.76</td>\n",
       "      <td>278f16</td>\n",
       "    </tr>\n",
       "    <tr>\n",
       "      <th>2599775</th>\n",
       "      <td>9.77</td>\n",
       "      <td>278f27</td>\n",
       "    </tr>\n",
       "    <tr>\n",
       "      <th>2599776</th>\n",
       "      <td>9.82</td>\n",
       "      <td>278e73</td>\n",
       "    </tr>\n",
       "  </tbody>\n",
       "</table>\n",
       "<p>2599777 rows × 2 columns</p>\n",
       "</div>"
      ],
      "text/plain": [
       "         windspeed_100m   index\n",
       "0                 12.88  0002e7\n",
       "1                 14.35  00034a\n",
       "2                 12.91  00008c\n",
       "3                 12.48  00026d\n",
       "4                  7.76  0003c0\n",
       "...                 ...     ...\n",
       "2599772            9.90  278d34\n",
       "2599773            9.62  278e42\n",
       "2599774            9.76  278f16\n",
       "2599775            9.77  278f27\n",
       "2599776            9.82  278e73\n",
       "\n",
       "[2599777 rows x 2 columns]"
      ]
     },
     "execution_count": 14,
     "metadata": {},
     "output_type": "execute_result"
    }
   ],
   "source": [
    "df"
   ]
  },
  {
   "cell_type": "code",
   "execution_count": 15,
   "metadata": {},
   "outputs": [
    {
     "name": "stderr",
     "output_type": "stream",
     "text": [
      "Fetching results...: 1polls [00:00,  1.61polls/s]\n"
     ]
    },
    {
     "name": "stdout",
     "output_type": "stream",
     "text": [
      "Query result is stored at: s3://wtk-test-athena-results/8949f85a-674a-429d-b84a-1d99ac3d47ef.csv.\n"
     ]
    }
   ],
   "source": [
    "# fetching windspeed map data at 100m for multiple time periods.\n",
    "df = wtk.fetch_filtered_data_1224(columns=['windspeed_100m','winddirection_100m','mohr','year'],years=[2001,2002],months=[2,4],hours=[12,15])"
   ]
  },
  {
   "cell_type": "markdown",
   "metadata": {},
   "source": [
    "Note: Depending on the result file size and network speed , the time to retrieve the results at runtime to the local machine can vary. The result file size for above query is around 800 MB."
   ]
  },
  {
   "cell_type": "code",
   "execution_count": 16,
   "metadata": {},
   "outputs": [
    {
     "data": {
      "text/html": [
       "<div>\n",
       "<style scoped>\n",
       "    .dataframe tbody tr th:only-of-type {\n",
       "        vertical-align: middle;\n",
       "    }\n",
       "\n",
       "    .dataframe tbody tr th {\n",
       "        vertical-align: top;\n",
       "    }\n",
       "\n",
       "    .dataframe thead th {\n",
       "        text-align: right;\n",
       "    }\n",
       "</style>\n",
       "<table border=\"1\" class=\"dataframe\">\n",
       "  <thead>\n",
       "    <tr style=\"text-align: right;\">\n",
       "      <th></th>\n",
       "      <th>windspeed_100m</th>\n",
       "      <th>winddirection_100m</th>\n",
       "      <th>mohr</th>\n",
       "      <th>year</th>\n",
       "      <th>index</th>\n",
       "    </tr>\n",
       "  </thead>\n",
       "  <tbody>\n",
       "    <tr>\n",
       "      <th>0</th>\n",
       "      <td>10.83</td>\n",
       "      <td>24.32</td>\n",
       "      <td>212</td>\n",
       "      <td>2002</td>\n",
       "      <td>00018b</td>\n",
       "    </tr>\n",
       "    <tr>\n",
       "      <th>1</th>\n",
       "      <td>10.74</td>\n",
       "      <td>20.28</td>\n",
       "      <td>215</td>\n",
       "      <td>2002</td>\n",
       "      <td>00018b</td>\n",
       "    </tr>\n",
       "    <tr>\n",
       "      <th>2</th>\n",
       "      <td>9.74</td>\n",
       "      <td>67.91</td>\n",
       "      <td>412</td>\n",
       "      <td>2002</td>\n",
       "      <td>00018b</td>\n",
       "    </tr>\n",
       "    <tr>\n",
       "      <th>3</th>\n",
       "      <td>9.69</td>\n",
       "      <td>294.94</td>\n",
       "      <td>415</td>\n",
       "      <td>2002</td>\n",
       "      <td>00018b</td>\n",
       "    </tr>\n",
       "    <tr>\n",
       "      <th>4</th>\n",
       "      <td>11.47</td>\n",
       "      <td>255.09</td>\n",
       "      <td>212</td>\n",
       "      <td>2002</td>\n",
       "      <td>000049</td>\n",
       "    </tr>\n",
       "    <tr>\n",
       "      <th>...</th>\n",
       "      <td>...</td>\n",
       "      <td>...</td>\n",
       "      <td>...</td>\n",
       "      <td>...</td>\n",
       "      <td>...</td>\n",
       "    </tr>\n",
       "    <tr>\n",
       "      <th>20798211</th>\n",
       "      <td>10.18</td>\n",
       "      <td>87.54</td>\n",
       "      <td>415</td>\n",
       "      <td>2001</td>\n",
       "      <td>2758ba</td>\n",
       "    </tr>\n",
       "    <tr>\n",
       "      <th>20798212</th>\n",
       "      <td>9.68</td>\n",
       "      <td>68.46</td>\n",
       "      <td>212</td>\n",
       "      <td>2001</td>\n",
       "      <td>2757f2</td>\n",
       "    </tr>\n",
       "    <tr>\n",
       "      <th>20798213</th>\n",
       "      <td>9.81</td>\n",
       "      <td>69.32</td>\n",
       "      <td>215</td>\n",
       "      <td>2001</td>\n",
       "      <td>2757f2</td>\n",
       "    </tr>\n",
       "    <tr>\n",
       "      <th>20798214</th>\n",
       "      <td>7.67</td>\n",
       "      <td>88.65</td>\n",
       "      <td>412</td>\n",
       "      <td>2001</td>\n",
       "      <td>2757f2</td>\n",
       "    </tr>\n",
       "    <tr>\n",
       "      <th>20798215</th>\n",
       "      <td>7.61</td>\n",
       "      <td>89.20</td>\n",
       "      <td>415</td>\n",
       "      <td>2001</td>\n",
       "      <td>2757f2</td>\n",
       "    </tr>\n",
       "  </tbody>\n",
       "</table>\n",
       "<p>20798216 rows × 5 columns</p>\n",
       "</div>"
      ],
      "text/plain": [
       "          windspeed_100m  winddirection_100m  mohr  year   index\n",
       "0                  10.83               24.32   212  2002  00018b\n",
       "1                  10.74               20.28   215  2002  00018b\n",
       "2                   9.74               67.91   412  2002  00018b\n",
       "3                   9.69              294.94   415  2002  00018b\n",
       "4                  11.47              255.09   212  2002  000049\n",
       "...                  ...                 ...   ...   ...     ...\n",
       "20798211           10.18               87.54   415  2001  2758ba\n",
       "20798212            9.68               68.46   212  2001  2757f2\n",
       "20798213            9.81               69.32   215  2001  2757f2\n",
       "20798214            7.67               88.65   412  2001  2757f2\n",
       "20798215            7.61               89.20   415  2001  2757f2\n",
       "\n",
       "[20798216 rows x 5 columns]"
      ]
     },
     "execution_count": 16,
     "metadata": {},
     "output_type": "execute_result"
    }
   ],
   "source": [
    "df"
   ]
  },
  {
   "cell_type": "code",
   "execution_count": 17,
   "metadata": {},
   "outputs": [
    {
     "name": "stdout",
     "output_type": "stream",
     "text": [
      "year\n",
      "2002    10399108\n",
      "2001    10399108\n",
      "Name: count, dtype: int64\n",
      "month\n",
      "2    10399108\n",
      "4    10399108\n",
      "Name: count, dtype: int64\n",
      "hour\n",
      "12    10399108\n",
      "15    10399108\n",
      "Name: count, dtype: int64\n"
     ]
    }
   ],
   "source": [
    "df['month'],df['hour'] = df['mohr']//100, df['mohr']%100\n",
    "print(df['year'].value_counts())\n",
    "print(df['month'].value_counts())\n",
    "print(df['hour'].value_counts())"
   ]
  },
  {
   "cell_type": "markdown",
   "metadata": {},
   "source": [
    "Note: Note: User can observe that this function is more robust in fetching data compared to safe functions. It is advised to keep the query cost in the mind. The above query scanned around **23 Gb** of data in **9 minutes** to retrieve results. Athena charges $5 per TB scanned."
   ]
  },
  {
   "cell_type": "code",
   "execution_count": null,
   "metadata": {},
   "outputs": [],
   "source": []
  }
 ],
 "metadata": {
  "kernelspec": {
   "display_name": ".venv",
   "language": "python",
   "name": "python3"
  },
  "language_info": {
   "codemirror_mode": {
    "name": "ipython",
    "version": 3
   },
   "file_extension": ".py",
   "mimetype": "text/x-python",
   "name": "python",
   "nbconvert_exporter": "python",
   "pygments_lexer": "ipython3",
   "version": "3.12.8"
  }
 },
 "nbformat": 4,
 "nbformat_minor": 2
}
