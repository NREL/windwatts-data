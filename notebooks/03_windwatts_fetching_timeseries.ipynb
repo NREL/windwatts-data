{
 "cells": [
  {
   "cell_type": "markdown",
   "metadata": {},
   "source": [
    "### This notebook guides the user regarding how to fetch timeseries data for a specific/all location at runtime.\n",
    "\n",
    "#### Note: The users AWS credentials should be exported in the created environment."
   ]
  },
  {
   "cell_type": "code",
   "execution_count": 2,
   "metadata": {},
   "outputs": [],
   "source": [
    "# import package\n",
    "import pandas as pd\n",
    "import matplotlib.pyplot as plt\n",
    "from windwatts_data import WTKLedClient1224\n",
    "from windrose import WindroseAxes"
   ]
  },
  {
   "cell_type": "markdown",
   "metadata": {},
   "source": [
    "We have imported WTKLedClient1224 class to work with WTK hourly average data."
   ]
  },
  {
   "cell_type": "code",
   "execution_count": 3,
   "metadata": {},
   "outputs": [
    {
     "name": "stderr",
     "output_type": "stream",
     "text": [
      "Fetching results...: 3polls [00:03,  1.25s/polls]\n"
     ]
    }
   ],
   "source": [
    "# Initialize object to the WTKLedClient1224 and WTKLedClientHourly\n",
    "# Since the config file is in same directory \"notebooks\" as the \".ipynb\" file, the below config path works.\n",
    "wtk_1224_client = WTKLedClient1224(config_path='./1224_config.json')"
   ]
  },
  {
   "cell_type": "markdown",
   "metadata": {},
   "source": [
    "### Safe function for fetching timeseries."
   ]
  },
  {
   "cell_type": "code",
   "execution_count": 3,
   "metadata": {},
   "outputs": [
    {
     "name": "stderr",
     "output_type": "stream",
     "text": [
      "Fetching results...: 1polls [00:00,  1.61polls/s]\n"
     ]
    },
    {
     "name": "stdout",
     "output_type": "stream",
     "text": [
      "     winddirection_100m  windspeed_100m  year  mohr   index\n",
      "0                304.61            8.46  2001   101  0f1c63\n",
      "1                295.51            9.20  2001   102  0f1c63\n",
      "2                291.72            9.69  2001   103  0f1c63\n",
      "3                294.93            9.37  2001   104  0f1c63\n",
      "4                289.00            9.98  2001   105  0f1c63\n",
      "..                  ...             ...   ...   ...     ...\n",
      "283              236.85            6.57  2001  1220  0f1c63\n",
      "284              213.33            6.31  2001  1221  0f1c63\n",
      "285              209.64            6.54  2001  1222  0f1c63\n",
      "286              291.12            6.44  2001  1223  0f1c63\n",
      "287              257.97            8.08  2001  1224  0f1c63\n",
      "\n",
      "[288 rows x 5 columns]\n"
     ]
    }
   ],
   "source": [
    "# Fetching windspeed and winddirection timeseries at height 100m for a single location for year 2001.\n",
    "df = wtk_1224_client.fetch_timeseries_1224(lat=39.92824,long=-105.23437,heights=[100],years=[2001])\n",
    "print(df)"
   ]
  },
  {
   "cell_type": "markdown",
   "metadata": {},
   "source": [
    "In 1224 timeseries data, each file has 288 rows(24 hours * 12 months)[hourly averages for each month] for each location at a specific year. mohr stands for MMHH."
   ]
  },
  {
   "cell_type": "code",
   "execution_count": 4,
   "metadata": {},
   "outputs": [],
   "source": [
    "# parsing mohr column in datetime to plot timeseries data.\n",
    "df['month'],df['hour'] = df['mohr']//100, df['mohr']%100\n",
    "df['datetime'] = pd.to_datetime(dict(year=df['year'],month=df['month'],day=1,hour=df['hour']))\n",
    "df = df.sort_values('datetime')"
   ]
  },
  {
   "cell_type": "code",
   "execution_count": 5,
   "metadata": {},
   "outputs": [
    {
     "name": "stdout",
     "output_type": "stream",
     "text": [
      "     winddirection_100m  windspeed_100m  year  mohr   index  month  hour  \\\n",
      "0                304.61            8.46  2001   101  0f1c63      1     1   \n",
      "1                295.51            9.20  2001   102  0f1c63      1     2   \n",
      "2                291.72            9.69  2001   103  0f1c63      1     3   \n",
      "3                294.93            9.37  2001   104  0f1c63      1     4   \n",
      "4                289.00            9.98  2001   105  0f1c63      1     5   \n",
      "..                  ...             ...   ...   ...     ...    ...   ...   \n",
      "283              236.85            6.57  2001  1220  0f1c63     12    20   \n",
      "284              213.33            6.31  2001  1221  0f1c63     12    21   \n",
      "285              209.64            6.54  2001  1222  0f1c63     12    22   \n",
      "286              291.12            6.44  2001  1223  0f1c63     12    23   \n",
      "287              257.97            8.08  2001  1224  0f1c63     12    24   \n",
      "\n",
      "               datetime  \n",
      "0   2001-01-01 01:00:00  \n",
      "1   2001-01-01 02:00:00  \n",
      "2   2001-01-01 03:00:00  \n",
      "3   2001-01-01 04:00:00  \n",
      "4   2001-01-01 05:00:00  \n",
      "..                  ...  \n",
      "283 2001-12-01 20:00:00  \n",
      "284 2001-12-01 21:00:00  \n",
      "285 2001-12-01 22:00:00  \n",
      "286 2001-12-01 23:00:00  \n",
      "287 2001-12-02 00:00:00  \n",
      "\n",
      "[288 rows x 8 columns]\n"
     ]
    }
   ],
   "source": [
    "print(df)"
   ]
  },
  {
   "cell_type": "markdown",
   "metadata": {},
   "source": [
    "### plotting timeseries data"
   ]
  },
  {
   "cell_type": "code",
   "execution_count": 6,
   "metadata": {},
   "outputs": [
    {
     "data": {
      "text/plain": [
       "Text(0.5, 1.0, 'Windspeed in 2001 at Coordinates(39.92824,-105.23437)')"
      ]
     },
     "execution_count": 6,
     "metadata": {},
     "output_type": "execute_result"
    },
    {
     "data": {
      "image/png": "[encoded data removed]",
      "text/plain": [
       "<Figure size 1000x500 with 1 Axes>"
      ]
     },
     "metadata": {},
     "output_type": "display_data"
    }
   ],
   "source": [
    "plt.figure(figsize=(10,5))\n",
    "plt.plot(df['datetime'],df['windspeed_100m'],marker='o')\n",
    "plt.ylabel(\"Windspeed at 100m (m/s)\")\n",
    "plt.xlabel(\"Datetime\")\n",
    "plt.grid(True)\n",
    "plt.title(\"Windspeed in 2001 at Coordinates(39.92824,-105.23437)\")"
   ]
  },
  {
   "cell_type": "code",
   "execution_count": 7,
   "metadata": {},
   "outputs": [
    {
     "data": {
      "text/html": [
       "<div>\n",
       "<style scoped>\n",
       "    .dataframe tbody tr th:only-of-type {\n",
       "        vertical-align: middle;\n",
       "    }\n",
       "\n",
       "    .dataframe tbody tr th {\n",
       "        vertical-align: top;\n",
       "    }\n",
       "\n",
       "    .dataframe thead th {\n",
       "        text-align: right;\n",
       "    }\n",
       "</style>\n",
       "<table border=\"1\" class=\"dataframe\">\n",
       "  <thead>\n",
       "    <tr style=\"text-align: right;\">\n",
       "      <th>hour</th>\n",
       "      <th>1</th>\n",
       "      <th>2</th>\n",
       "      <th>3</th>\n",
       "      <th>4</th>\n",
       "      <th>5</th>\n",
       "      <th>6</th>\n",
       "      <th>7</th>\n",
       "      <th>8</th>\n",
       "      <th>9</th>\n",
       "      <th>10</th>\n",
       "      <th>...</th>\n",
       "      <th>15</th>\n",
       "      <th>16</th>\n",
       "      <th>17</th>\n",
       "      <th>18</th>\n",
       "      <th>19</th>\n",
       "      <th>20</th>\n",
       "      <th>21</th>\n",
       "      <th>22</th>\n",
       "      <th>23</th>\n",
       "      <th>24</th>\n",
       "    </tr>\n",
       "    <tr>\n",
       "      <th>month</th>\n",
       "      <th></th>\n",
       "      <th></th>\n",
       "      <th></th>\n",
       "      <th></th>\n",
       "      <th></th>\n",
       "      <th></th>\n",
       "      <th></th>\n",
       "      <th></th>\n",
       "      <th></th>\n",
       "      <th></th>\n",
       "      <th></th>\n",
       "      <th></th>\n",
       "      <th></th>\n",
       "      <th></th>\n",
       "      <th></th>\n",
       "      <th></th>\n",
       "      <th></th>\n",
       "      <th></th>\n",
       "      <th></th>\n",
       "      <th></th>\n",
       "      <th></th>\n",
       "    </tr>\n",
       "  </thead>\n",
       "  <tbody>\n",
       "    <tr>\n",
       "      <th>1</th>\n",
       "      <td>8.46</td>\n",
       "      <td>9.20</td>\n",
       "      <td>9.69</td>\n",
       "      <td>9.37</td>\n",
       "      <td>9.98</td>\n",
       "      <td>10.86</td>\n",
       "      <td>12.09</td>\n",
       "      <td>12.91</td>\n",
       "      <td>12.57</td>\n",
       "      <td>11.21</td>\n",
       "      <td>...</td>\n",
       "      <td>10.98</td>\n",
       "      <td>11.06</td>\n",
       "      <td>9.26</td>\n",
       "      <td>7.39</td>\n",
       "      <td>5.86</td>\n",
       "      <td>6.38</td>\n",
       "      <td>6.31</td>\n",
       "      <td>6.22</td>\n",
       "      <td>5.84</td>\n",
       "      <td>7.13</td>\n",
       "    </tr>\n",
       "    <tr>\n",
       "      <th>2</th>\n",
       "      <td>4.06</td>\n",
       "      <td>4.34</td>\n",
       "      <td>4.54</td>\n",
       "      <td>4.81</td>\n",
       "      <td>6.10</td>\n",
       "      <td>6.11</td>\n",
       "      <td>6.82</td>\n",
       "      <td>6.15</td>\n",
       "      <td>5.64</td>\n",
       "      <td>5.74</td>\n",
       "      <td>...</td>\n",
       "      <td>4.86</td>\n",
       "      <td>5.20</td>\n",
       "      <td>4.21</td>\n",
       "      <td>3.96</td>\n",
       "      <td>4.15</td>\n",
       "      <td>4.29</td>\n",
       "      <td>3.76</td>\n",
       "      <td>3.92</td>\n",
       "      <td>3.76</td>\n",
       "      <td>3.55</td>\n",
       "    </tr>\n",
       "    <tr>\n",
       "      <th>3</th>\n",
       "      <td>4.32</td>\n",
       "      <td>4.62</td>\n",
       "      <td>5.57</td>\n",
       "      <td>6.00</td>\n",
       "      <td>5.95</td>\n",
       "      <td>5.58</td>\n",
       "      <td>5.87</td>\n",
       "      <td>6.99</td>\n",
       "      <td>6.64</td>\n",
       "      <td>6.63</td>\n",
       "      <td>...</td>\n",
       "      <td>7.82</td>\n",
       "      <td>5.65</td>\n",
       "      <td>4.33</td>\n",
       "      <td>3.78</td>\n",
       "      <td>4.29</td>\n",
       "      <td>4.53</td>\n",
       "      <td>4.28</td>\n",
       "      <td>4.51</td>\n",
       "      <td>4.70</td>\n",
       "      <td>4.38</td>\n",
       "    </tr>\n",
       "    <tr>\n",
       "      <th>4</th>\n",
       "      <td>5.41</td>\n",
       "      <td>6.33</td>\n",
       "      <td>7.15</td>\n",
       "      <td>7.30</td>\n",
       "      <td>7.23</td>\n",
       "      <td>7.31</td>\n",
       "      <td>7.64</td>\n",
       "      <td>8.11</td>\n",
       "      <td>7.86</td>\n",
       "      <td>6.93</td>\n",
       "      <td>...</td>\n",
       "      <td>6.46</td>\n",
       "      <td>6.07</td>\n",
       "      <td>6.95</td>\n",
       "      <td>6.88</td>\n",
       "      <td>6.15</td>\n",
       "      <td>5.69</td>\n",
       "      <td>5.65</td>\n",
       "      <td>6.05</td>\n",
       "      <td>6.40</td>\n",
       "      <td>6.24</td>\n",
       "    </tr>\n",
       "    <tr>\n",
       "      <th>5</th>\n",
       "      <td>7.85</td>\n",
       "      <td>8.38</td>\n",
       "      <td>7.79</td>\n",
       "      <td>6.59</td>\n",
       "      <td>6.45</td>\n",
       "      <td>6.75</td>\n",
       "      <td>6.65</td>\n",
       "      <td>6.97</td>\n",
       "      <td>7.09</td>\n",
       "      <td>6.96</td>\n",
       "      <td>...</td>\n",
       "      <td>7.57</td>\n",
       "      <td>6.06</td>\n",
       "      <td>6.10</td>\n",
       "      <td>6.75</td>\n",
       "      <td>6.93</td>\n",
       "      <td>6.69</td>\n",
       "      <td>7.34</td>\n",
       "      <td>7.22</td>\n",
       "      <td>8.04</td>\n",
       "      <td>7.67</td>\n",
       "    </tr>\n",
       "    <tr>\n",
       "      <th>6</th>\n",
       "      <td>5.99</td>\n",
       "      <td>5.74</td>\n",
       "      <td>6.72</td>\n",
       "      <td>8.62</td>\n",
       "      <td>9.14</td>\n",
       "      <td>9.19</td>\n",
       "      <td>9.18</td>\n",
       "      <td>8.11</td>\n",
       "      <td>7.65</td>\n",
       "      <td>7.12</td>\n",
       "      <td>...</td>\n",
       "      <td>3.04</td>\n",
       "      <td>3.54</td>\n",
       "      <td>3.54</td>\n",
       "      <td>4.16</td>\n",
       "      <td>4.42</td>\n",
       "      <td>4.68</td>\n",
       "      <td>5.10</td>\n",
       "      <td>5.84</td>\n",
       "      <td>6.35</td>\n",
       "      <td>6.48</td>\n",
       "    </tr>\n",
       "    <tr>\n",
       "      <th>7</th>\n",
       "      <td>8.06</td>\n",
       "      <td>7.08</td>\n",
       "      <td>7.17</td>\n",
       "      <td>7.45</td>\n",
       "      <td>7.84</td>\n",
       "      <td>6.91</td>\n",
       "      <td>7.96</td>\n",
       "      <td>7.41</td>\n",
       "      <td>7.82</td>\n",
       "      <td>7.47</td>\n",
       "      <td>...</td>\n",
       "      <td>5.14</td>\n",
       "      <td>3.47</td>\n",
       "      <td>3.34</td>\n",
       "      <td>3.82</td>\n",
       "      <td>3.92</td>\n",
       "      <td>4.21</td>\n",
       "      <td>4.67</td>\n",
       "      <td>6.63</td>\n",
       "      <td>5.30</td>\n",
       "      <td>8.03</td>\n",
       "    </tr>\n",
       "    <tr>\n",
       "      <th>8</th>\n",
       "      <td>6.07</td>\n",
       "      <td>6.00</td>\n",
       "      <td>5.97</td>\n",
       "      <td>5.25</td>\n",
       "      <td>6.43</td>\n",
       "      <td>5.53</td>\n",
       "      <td>5.70</td>\n",
       "      <td>6.29</td>\n",
       "      <td>6.57</td>\n",
       "      <td>5.57</td>\n",
       "      <td>...</td>\n",
       "      <td>3.61</td>\n",
       "      <td>2.63</td>\n",
       "      <td>3.04</td>\n",
       "      <td>3.22</td>\n",
       "      <td>3.53</td>\n",
       "      <td>3.86</td>\n",
       "      <td>5.10</td>\n",
       "      <td>4.65</td>\n",
       "      <td>5.07</td>\n",
       "      <td>5.00</td>\n",
       "    </tr>\n",
       "    <tr>\n",
       "      <th>9</th>\n",
       "      <td>4.34</td>\n",
       "      <td>5.13</td>\n",
       "      <td>6.14</td>\n",
       "      <td>5.66</td>\n",
       "      <td>6.42</td>\n",
       "      <td>5.23</td>\n",
       "      <td>5.49</td>\n",
       "      <td>5.37</td>\n",
       "      <td>4.61</td>\n",
       "      <td>4.78</td>\n",
       "      <td>...</td>\n",
       "      <td>4.70</td>\n",
       "      <td>2.83</td>\n",
       "      <td>2.53</td>\n",
       "      <td>2.98</td>\n",
       "      <td>3.70</td>\n",
       "      <td>3.61</td>\n",
       "      <td>3.91</td>\n",
       "      <td>4.54</td>\n",
       "      <td>4.25</td>\n",
       "      <td>4.52</td>\n",
       "    </tr>\n",
       "    <tr>\n",
       "      <th>10</th>\n",
       "      <td>3.99</td>\n",
       "      <td>4.42</td>\n",
       "      <td>4.91</td>\n",
       "      <td>5.20</td>\n",
       "      <td>5.74</td>\n",
       "      <td>5.77</td>\n",
       "      <td>6.89</td>\n",
       "      <td>7.25</td>\n",
       "      <td>7.15</td>\n",
       "      <td>8.19</td>\n",
       "      <td>...</td>\n",
       "      <td>6.76</td>\n",
       "      <td>5.26</td>\n",
       "      <td>4.58</td>\n",
       "      <td>4.43</td>\n",
       "      <td>4.69</td>\n",
       "      <td>4.48</td>\n",
       "      <td>4.60</td>\n",
       "      <td>4.68</td>\n",
       "      <td>5.13</td>\n",
       "      <td>4.46</td>\n",
       "    </tr>\n",
       "    <tr>\n",
       "      <th>11</th>\n",
       "      <td>4.27</td>\n",
       "      <td>4.18</td>\n",
       "      <td>4.39</td>\n",
       "      <td>4.47</td>\n",
       "      <td>4.29</td>\n",
       "      <td>4.52</td>\n",
       "      <td>4.56</td>\n",
       "      <td>5.21</td>\n",
       "      <td>6.28</td>\n",
       "      <td>6.47</td>\n",
       "      <td>...</td>\n",
       "      <td>6.23</td>\n",
       "      <td>5.42</td>\n",
       "      <td>4.28</td>\n",
       "      <td>4.28</td>\n",
       "      <td>4.20</td>\n",
       "      <td>4.18</td>\n",
       "      <td>4.27</td>\n",
       "      <td>4.23</td>\n",
       "      <td>4.20</td>\n",
       "      <td>3.94</td>\n",
       "    </tr>\n",
       "    <tr>\n",
       "      <th>12</th>\n",
       "      <td>9.97</td>\n",
       "      <td>10.94</td>\n",
       "      <td>10.76</td>\n",
       "      <td>9.90</td>\n",
       "      <td>10.16</td>\n",
       "      <td>10.58</td>\n",
       "      <td>10.85</td>\n",
       "      <td>10.86</td>\n",
       "      <td>11.21</td>\n",
       "      <td>11.27</td>\n",
       "      <td>...</td>\n",
       "      <td>9.36</td>\n",
       "      <td>9.38</td>\n",
       "      <td>8.56</td>\n",
       "      <td>7.25</td>\n",
       "      <td>6.47</td>\n",
       "      <td>6.57</td>\n",
       "      <td>6.31</td>\n",
       "      <td>6.54</td>\n",
       "      <td>6.44</td>\n",
       "      <td>8.08</td>\n",
       "    </tr>\n",
       "  </tbody>\n",
       "</table>\n",
       "<p>12 rows × 24 columns</p>\n",
       "</div>"
      ],
      "text/plain": [
       "hour     1      2      3     4      5      6      7      8      9      10  \\\n",
       "month                                                                       \n",
       "1      8.46   9.20   9.69  9.37   9.98  10.86  12.09  12.91  12.57  11.21   \n",
       "2      4.06   4.34   4.54  4.81   6.10   6.11   6.82   6.15   5.64   5.74   \n",
       "3      4.32   4.62   5.57  6.00   5.95   5.58   5.87   6.99   6.64   6.63   \n",
       "4      5.41   6.33   7.15  7.30   7.23   7.31   7.64   8.11   7.86   6.93   \n",
       "5      7.85   8.38   7.79  6.59   6.45   6.75   6.65   6.97   7.09   6.96   \n",
       "6      5.99   5.74   6.72  8.62   9.14   9.19   9.18   8.11   7.65   7.12   \n",
       "7      8.06   7.08   7.17  7.45   7.84   6.91   7.96   7.41   7.82   7.47   \n",
       "8      6.07   6.00   5.97  5.25   6.43   5.53   5.70   6.29   6.57   5.57   \n",
       "9      4.34   5.13   6.14  5.66   6.42   5.23   5.49   5.37   4.61   4.78   \n",
       "10     3.99   4.42   4.91  5.20   5.74   5.77   6.89   7.25   7.15   8.19   \n",
       "11     4.27   4.18   4.39  4.47   4.29   4.52   4.56   5.21   6.28   6.47   \n",
       "12     9.97  10.94  10.76  9.90  10.16  10.58  10.85  10.86  11.21  11.27   \n",
       "\n",
       "hour   ...     15     16    17    18    19    20    21    22    23    24  \n",
       "month  ...                                                                \n",
       "1      ...  10.98  11.06  9.26  7.39  5.86  6.38  6.31  6.22  5.84  7.13  \n",
       "2      ...   4.86   5.20  4.21  3.96  4.15  4.29  3.76  3.92  3.76  3.55  \n",
       "3      ...   7.82   5.65  4.33  3.78  4.29  4.53  4.28  4.51  4.70  4.38  \n",
       "4      ...   6.46   6.07  6.95  6.88  6.15  5.69  5.65  6.05  6.40  6.24  \n",
       "5      ...   7.57   6.06  6.10  6.75  6.93  6.69  7.34  7.22  8.04  7.67  \n",
       "6      ...   3.04   3.54  3.54  4.16  4.42  4.68  5.10  5.84  6.35  6.48  \n",
       "7      ...   5.14   3.47  3.34  3.82  3.92  4.21  4.67  6.63  5.30  8.03  \n",
       "8      ...   3.61   2.63  3.04  3.22  3.53  3.86  5.10  4.65  5.07  5.00  \n",
       "9      ...   4.70   2.83  2.53  2.98  3.70  3.61  3.91  4.54  4.25  4.52  \n",
       "10     ...   6.76   5.26  4.58  4.43  4.69  4.48  4.60  4.68  5.13  4.46  \n",
       "11     ...   6.23   5.42  4.28  4.28  4.20  4.18  4.27  4.23  4.20  3.94  \n",
       "12     ...   9.36   9.38  8.56  7.25  6.47  6.57  6.31  6.54  6.44  8.08  \n",
       "\n",
       "[12 rows x 24 columns]"
      ]
     },
     "execution_count": 7,
     "metadata": {},
     "output_type": "execute_result"
    }
   ],
   "source": [
    "# Windspeed statistics\n",
    "agg = df.reset_index().pivot(index=\"month\",columns=\"hour\",values=\"windspeed_100m\")\n",
    "agg"
   ]
  },
  {
   "cell_type": "code",
   "execution_count": 8,
   "metadata": {},
   "outputs": [
    {
     "data": {
      "text/plain": [
       "<matplotlib.colorbar.Colorbar at 0x3224a0650>"
      ]
     },
     "execution_count": 8,
     "metadata": {},
     "output_type": "execute_result"
    },
    {
     "data": {
      "image/png": "[encoded data removed]",
      "text/plain": [
       "<Figure size 640x480 with 2 Axes>"
      ]
     },
     "metadata": {},
     "output_type": "display_data"
    }
   ],
   "source": [
    "plt.imshow(agg)\n",
    "plt.xlabel(\"Hour\")\n",
    "plt.ylabel(\"Month\")\n",
    "plt.title(\"12 x 24 Mean Windspeed (m/s) at 100m\")\n",
    "plt.colorbar()"
   ]
  },
  {
   "cell_type": "markdown",
   "metadata": {},
   "source": [
    "### plotting windrose for winddirection and windspeed at 100m"
   ]
  },
  {
   "cell_type": "code",
   "execution_count": 9,
   "metadata": {},
   "outputs": [
    {
     "data": {
      "image/png": "[encoded data removed]",
      "text/plain": [
       "<Figure size 500x500 with 1 Axes>"
      ]
     },
     "metadata": {},
     "output_type": "display_data"
    }
   ],
   "source": [
    "fig = plt.figure(figsize=(5, 5))  # Width=10, Height=8 in inches\n",
    "ax = WindroseAxes.from_ax(fig=fig)\n",
    "ax.bar(df['winddirection_100m'], df['windspeed_100m'], normed=True, opening=0.8, edgecolor='white')\n",
    "ax.set_legend(loc=(1.05, 0.8)) \n",
    "plt.suptitle(\"Windrose Plot (100m)\", fontsize=16, y=1)  \n",
    "plt.show()"
   ]
  },
  {
   "cell_type": "markdown",
   "metadata": {},
   "source": [
    "### Fetching windspeed and winddirection timeseries at height 100m for a single location for all 10 years."
   ]
  },
  {
   "cell_type": "code",
   "execution_count": 10,
   "metadata": {},
   "outputs": [
    {
     "name": "stderr",
     "output_type": "stream",
     "text": [
      "Fetching results...: 1polls [00:00,  1.59polls/s]\n"
     ]
    }
   ],
   "source": [
    "df = wtk_1224_client.fetch_timeseries_1224(lat=39.92824,long=-105.23437,heights=[100], years=[2001,2002,2003,2004,2005,2006,2007,2008,2009,2010])"
   ]
  },
  {
   "cell_type": "code",
   "execution_count": 11,
   "metadata": {},
   "outputs": [
    {
     "data": {
      "text/html": [
       "<div>\n",
       "<style scoped>\n",
       "    .dataframe tbody tr th:only-of-type {\n",
       "        vertical-align: middle;\n",
       "    }\n",
       "\n",
       "    .dataframe tbody tr th {\n",
       "        vertical-align: top;\n",
       "    }\n",
       "\n",
       "    .dataframe thead th {\n",
       "        text-align: right;\n",
       "    }\n",
       "</style>\n",
       "<table border=\"1\" class=\"dataframe\">\n",
       "  <thead>\n",
       "    <tr style=\"text-align: right;\">\n",
       "      <th></th>\n",
       "      <th>winddirection_100m</th>\n",
       "      <th>windspeed_100m</th>\n",
       "      <th>year</th>\n",
       "      <th>mohr</th>\n",
       "      <th>index</th>\n",
       "    </tr>\n",
       "  </thead>\n",
       "  <tbody>\n",
       "    <tr>\n",
       "      <th>0</th>\n",
       "      <td>315.81</td>\n",
       "      <td>6.28</td>\n",
       "      <td>2004</td>\n",
       "      <td>101</td>\n",
       "      <td>0f1c63</td>\n",
       "    </tr>\n",
       "    <tr>\n",
       "      <th>1</th>\n",
       "      <td>316.53</td>\n",
       "      <td>6.32</td>\n",
       "      <td>2004</td>\n",
       "      <td>102</td>\n",
       "      <td>0f1c63</td>\n",
       "    </tr>\n",
       "    <tr>\n",
       "      <th>2</th>\n",
       "      <td>308.08</td>\n",
       "      <td>6.65</td>\n",
       "      <td>2004</td>\n",
       "      <td>103</td>\n",
       "      <td>0f1c63</td>\n",
       "    </tr>\n",
       "    <tr>\n",
       "      <th>3</th>\n",
       "      <td>318.11</td>\n",
       "      <td>7.20</td>\n",
       "      <td>2004</td>\n",
       "      <td>104</td>\n",
       "      <td>0f1c63</td>\n",
       "    </tr>\n",
       "    <tr>\n",
       "      <th>4</th>\n",
       "      <td>312.66</td>\n",
       "      <td>7.56</td>\n",
       "      <td>2004</td>\n",
       "      <td>105</td>\n",
       "      <td>0f1c63</td>\n",
       "    </tr>\n",
       "    <tr>\n",
       "      <th>...</th>\n",
       "      <td>...</td>\n",
       "      <td>...</td>\n",
       "      <td>...</td>\n",
       "      <td>...</td>\n",
       "      <td>...</td>\n",
       "    </tr>\n",
       "    <tr>\n",
       "      <th>2875</th>\n",
       "      <td>303.29</td>\n",
       "      <td>5.72</td>\n",
       "      <td>2007</td>\n",
       "      <td>1220</td>\n",
       "      <td>0f1c63</td>\n",
       "    </tr>\n",
       "    <tr>\n",
       "      <th>2876</th>\n",
       "      <td>31.60</td>\n",
       "      <td>6.08</td>\n",
       "      <td>2007</td>\n",
       "      <td>1221</td>\n",
       "      <td>0f1c63</td>\n",
       "    </tr>\n",
       "    <tr>\n",
       "      <th>2877</th>\n",
       "      <td>85.07</td>\n",
       "      <td>5.98</td>\n",
       "      <td>2007</td>\n",
       "      <td>1222</td>\n",
       "      <td>0f1c63</td>\n",
       "    </tr>\n",
       "    <tr>\n",
       "      <th>2878</th>\n",
       "      <td>332.10</td>\n",
       "      <td>4.91</td>\n",
       "      <td>2007</td>\n",
       "      <td>1223</td>\n",
       "      <td>0f1c63</td>\n",
       "    </tr>\n",
       "    <tr>\n",
       "      <th>2879</th>\n",
       "      <td>302.55</td>\n",
       "      <td>5.98</td>\n",
       "      <td>2007</td>\n",
       "      <td>1224</td>\n",
       "      <td>0f1c63</td>\n",
       "    </tr>\n",
       "  </tbody>\n",
       "</table>\n",
       "<p>2880 rows × 5 columns</p>\n",
       "</div>"
      ],
      "text/plain": [
       "      winddirection_100m  windspeed_100m  year  mohr   index\n",
       "0                 315.81            6.28  2004   101  0f1c63\n",
       "1                 316.53            6.32  2004   102  0f1c63\n",
       "2                 308.08            6.65  2004   103  0f1c63\n",
       "3                 318.11            7.20  2004   104  0f1c63\n",
       "4                 312.66            7.56  2004   105  0f1c63\n",
       "...                  ...             ...   ...   ...     ...\n",
       "2875              303.29            5.72  2007  1220  0f1c63\n",
       "2876               31.60            6.08  2007  1221  0f1c63\n",
       "2877               85.07            5.98  2007  1222  0f1c63\n",
       "2878              332.10            4.91  2007  1223  0f1c63\n",
       "2879              302.55            5.98  2007  1224  0f1c63\n",
       "\n",
       "[2880 rows x 5 columns]"
      ]
     },
     "execution_count": 11,
     "metadata": {},
     "output_type": "execute_result"
    }
   ],
   "source": [
    "df"
   ]
  },
  {
   "cell_type": "code",
   "execution_count": 12,
   "metadata": {},
   "outputs": [],
   "source": [
    "# parsing mohr column in datetime to plot timeseries data.\n",
    "df['month'],df['hour'] = df['mohr']//100, df['mohr']%100\n",
    "df['datetime'] = pd.to_datetime(dict(year=df['year'],month=df['month'],day=1,hour=df['hour']))\n",
    "df = df.sort_values('datetime')"
   ]
  },
  {
   "cell_type": "markdown",
   "metadata": {},
   "source": [
    "### plotting timeseries data for march of all 10 years."
   ]
  },
  {
   "cell_type": "code",
   "execution_count": 13,
   "metadata": {},
   "outputs": [
    {
     "data": {
      "text/plain": [
       "Text(0.5, 1.0, 'Windspeed in March 2001-2010 at Coordinates(39.92824,-105.23437)')"
      ]
     },
     "execution_count": 13,
     "metadata": {},
     "output_type": "execute_result"
    },
    {
     "data": {
      "image/png": "[encoded data removed]",
      "text/plain": [
       "<Figure size 1000x500 with 1 Axes>"
      ]
     },
     "metadata": {},
     "output_type": "display_data"
    }
   ],
   "source": [
    "df_march = df[df['month']==3]\n",
    "plt.figure(figsize=(10,5))\n",
    "plt.plot(df_march['datetime'],df_march['windspeed_100m'],marker='o')\n",
    "plt.ylabel(\"Windspeed at 100m (m/s)\")\n",
    "plt.xlabel(\"Datetime\")\n",
    "plt.grid(True)\n",
    "plt.title(\"Windspeed in March 2001-2010 at Coordinates(39.92824,-105.23437)\")"
   ]
  },
  {
   "cell_type": "code",
   "execution_count": 14,
   "metadata": {},
   "outputs": [
    {
     "data": {
      "text/html": [
       "<div>\n",
       "<style scoped>\n",
       "    .dataframe tbody tr th:only-of-type {\n",
       "        vertical-align: middle;\n",
       "    }\n",
       "\n",
       "    .dataframe tbody tr th {\n",
       "        vertical-align: top;\n",
       "    }\n",
       "\n",
       "    .dataframe thead th {\n",
       "        text-align: right;\n",
       "    }\n",
       "</style>\n",
       "<table border=\"1\" class=\"dataframe\">\n",
       "  <thead>\n",
       "    <tr style=\"text-align: right;\">\n",
       "      <th></th>\n",
       "      <th>winddirection_100m</th>\n",
       "      <th>windspeed_100m</th>\n",
       "      <th>year</th>\n",
       "      <th>mohr</th>\n",
       "      <th>index</th>\n",
       "      <th>month</th>\n",
       "      <th>hour</th>\n",
       "      <th>datetime</th>\n",
       "    </tr>\n",
       "  </thead>\n",
       "  <tbody>\n",
       "    <tr>\n",
       "      <th>1440</th>\n",
       "      <td>304.61</td>\n",
       "      <td>8.46</td>\n",
       "      <td>2001</td>\n",
       "      <td>101</td>\n",
       "      <td>0f1c63</td>\n",
       "      <td>1</td>\n",
       "      <td>1</td>\n",
       "      <td>2001-01-01 01:00:00</td>\n",
       "    </tr>\n",
       "    <tr>\n",
       "      <th>1441</th>\n",
       "      <td>295.51</td>\n",
       "      <td>9.20</td>\n",
       "      <td>2001</td>\n",
       "      <td>102</td>\n",
       "      <td>0f1c63</td>\n",
       "      <td>1</td>\n",
       "      <td>2</td>\n",
       "      <td>2001-01-01 02:00:00</td>\n",
       "    </tr>\n",
       "    <tr>\n",
       "      <th>1442</th>\n",
       "      <td>291.72</td>\n",
       "      <td>9.69</td>\n",
       "      <td>2001</td>\n",
       "      <td>103</td>\n",
       "      <td>0f1c63</td>\n",
       "      <td>1</td>\n",
       "      <td>3</td>\n",
       "      <td>2001-01-01 03:00:00</td>\n",
       "    </tr>\n",
       "    <tr>\n",
       "      <th>1443</th>\n",
       "      <td>294.93</td>\n",
       "      <td>9.37</td>\n",
       "      <td>2001</td>\n",
       "      <td>104</td>\n",
       "      <td>0f1c63</td>\n",
       "      <td>1</td>\n",
       "      <td>4</td>\n",
       "      <td>2001-01-01 04:00:00</td>\n",
       "    </tr>\n",
       "    <tr>\n",
       "      <th>1444</th>\n",
       "      <td>289.00</td>\n",
       "      <td>9.98</td>\n",
       "      <td>2001</td>\n",
       "      <td>105</td>\n",
       "      <td>0f1c63</td>\n",
       "      <td>1</td>\n",
       "      <td>5</td>\n",
       "      <td>2001-01-01 05:00:00</td>\n",
       "    </tr>\n",
       "    <tr>\n",
       "      <th>...</th>\n",
       "      <td>...</td>\n",
       "      <td>...</td>\n",
       "      <td>...</td>\n",
       "      <td>...</td>\n",
       "      <td>...</td>\n",
       "      <td>...</td>\n",
       "      <td>...</td>\n",
       "      <td>...</td>\n",
       "    </tr>\n",
       "    <tr>\n",
       "      <th>2299</th>\n",
       "      <td>324.16</td>\n",
       "      <td>6.30</td>\n",
       "      <td>2010</td>\n",
       "      <td>1220</td>\n",
       "      <td>0f1c63</td>\n",
       "      <td>12</td>\n",
       "      <td>20</td>\n",
       "      <td>2010-12-01 20:00:00</td>\n",
       "    </tr>\n",
       "    <tr>\n",
       "      <th>2300</th>\n",
       "      <td>294.56</td>\n",
       "      <td>6.43</td>\n",
       "      <td>2010</td>\n",
       "      <td>1221</td>\n",
       "      <td>0f1c63</td>\n",
       "      <td>12</td>\n",
       "      <td>21</td>\n",
       "      <td>2010-12-01 21:00:00</td>\n",
       "    </tr>\n",
       "    <tr>\n",
       "      <th>2301</th>\n",
       "      <td>308.61</td>\n",
       "      <td>7.08</td>\n",
       "      <td>2010</td>\n",
       "      <td>1222</td>\n",
       "      <td>0f1c63</td>\n",
       "      <td>12</td>\n",
       "      <td>22</td>\n",
       "      <td>2010-12-01 22:00:00</td>\n",
       "    </tr>\n",
       "    <tr>\n",
       "      <th>2302</th>\n",
       "      <td>304.40</td>\n",
       "      <td>6.25</td>\n",
       "      <td>2010</td>\n",
       "      <td>1223</td>\n",
       "      <td>0f1c63</td>\n",
       "      <td>12</td>\n",
       "      <td>23</td>\n",
       "      <td>2010-12-01 23:00:00</td>\n",
       "    </tr>\n",
       "    <tr>\n",
       "      <th>2303</th>\n",
       "      <td>323.77</td>\n",
       "      <td>6.49</td>\n",
       "      <td>2010</td>\n",
       "      <td>1224</td>\n",
       "      <td>0f1c63</td>\n",
       "      <td>12</td>\n",
       "      <td>24</td>\n",
       "      <td>2010-12-02 00:00:00</td>\n",
       "    </tr>\n",
       "  </tbody>\n",
       "</table>\n",
       "<p>2880 rows × 8 columns</p>\n",
       "</div>"
      ],
      "text/plain": [
       "      winddirection_100m  windspeed_100m  year  mohr   index  month  hour  \\\n",
       "1440              304.61            8.46  2001   101  0f1c63      1     1   \n",
       "1441              295.51            9.20  2001   102  0f1c63      1     2   \n",
       "1442              291.72            9.69  2001   103  0f1c63      1     3   \n",
       "1443              294.93            9.37  2001   104  0f1c63      1     4   \n",
       "1444              289.00            9.98  2001   105  0f1c63      1     5   \n",
       "...                  ...             ...   ...   ...     ...    ...   ...   \n",
       "2299              324.16            6.30  2010  1220  0f1c63     12    20   \n",
       "2300              294.56            6.43  2010  1221  0f1c63     12    21   \n",
       "2301              308.61            7.08  2010  1222  0f1c63     12    22   \n",
       "2302              304.40            6.25  2010  1223  0f1c63     12    23   \n",
       "2303              323.77            6.49  2010  1224  0f1c63     12    24   \n",
       "\n",
       "                datetime  \n",
       "1440 2001-01-01 01:00:00  \n",
       "1441 2001-01-01 02:00:00  \n",
       "1442 2001-01-01 03:00:00  \n",
       "1443 2001-01-01 04:00:00  \n",
       "1444 2001-01-01 05:00:00  \n",
       "...                  ...  \n",
       "2299 2010-12-01 20:00:00  \n",
       "2300 2010-12-01 21:00:00  \n",
       "2301 2010-12-01 22:00:00  \n",
       "2302 2010-12-01 23:00:00  \n",
       "2303 2010-12-02 00:00:00  \n",
       "\n",
       "[2880 rows x 8 columns]"
      ]
     },
     "execution_count": 14,
     "metadata": {},
     "output_type": "execute_result"
    }
   ],
   "source": [
    "df"
   ]
  },
  {
   "cell_type": "markdown",
   "metadata": {},
   "source": [
    "#### Fetching windspeed and winddirection timeseries dataframe at height 100m and 40m for a 2 locations(the second one as the nearest neighbor) for years 2001 and 2004."
   ]
  },
  {
   "cell_type": "code",
   "execution_count": 4,
   "metadata": {},
   "outputs": [
    {
     "name": "stderr",
     "output_type": "stream",
     "text": [
      "Fetching results...: 1polls [00:00,  1.61polls/s]\n"
     ]
    }
   ],
   "source": [
    "df = wtk_1224_client.fetch_timeseries_1224(lat=39.92824,long=-105.23437,heights=[100,40],years=[2001,2004],n_nearest=2)"
   ]
  },
  {
   "cell_type": "code",
   "execution_count": 5,
   "metadata": {},
   "outputs": [
    {
     "data": {
      "text/html": [
       "<div>\n",
       "<style scoped>\n",
       "    .dataframe tbody tr th:only-of-type {\n",
       "        vertical-align: middle;\n",
       "    }\n",
       "\n",
       "    .dataframe tbody tr th {\n",
       "        vertical-align: top;\n",
       "    }\n",
       "\n",
       "    .dataframe thead th {\n",
       "        text-align: right;\n",
       "    }\n",
       "</style>\n",
       "<table border=\"1\" class=\"dataframe\">\n",
       "  <thead>\n",
       "    <tr style=\"text-align: right;\">\n",
       "      <th></th>\n",
       "      <th>winddirection_100m</th>\n",
       "      <th>winddirection_40m</th>\n",
       "      <th>windspeed_100m</th>\n",
       "      <th>windspeed_40m</th>\n",
       "      <th>year</th>\n",
       "      <th>mohr</th>\n",
       "      <th>index</th>\n",
       "    </tr>\n",
       "  </thead>\n",
       "  <tbody>\n",
       "    <tr>\n",
       "      <th>0</th>\n",
       "      <td>304.61</td>\n",
       "      <td>305.85</td>\n",
       "      <td>8.46</td>\n",
       "      <td>6.54</td>\n",
       "      <td>2001</td>\n",
       "      <td>101</td>\n",
       "      <td>0f1c63</td>\n",
       "    </tr>\n",
       "    <tr>\n",
       "      <th>1</th>\n",
       "      <td>295.51</td>\n",
       "      <td>292.57</td>\n",
       "      <td>9.20</td>\n",
       "      <td>7.33</td>\n",
       "      <td>2001</td>\n",
       "      <td>102</td>\n",
       "      <td>0f1c63</td>\n",
       "    </tr>\n",
       "    <tr>\n",
       "      <th>2</th>\n",
       "      <td>291.72</td>\n",
       "      <td>288.00</td>\n",
       "      <td>9.69</td>\n",
       "      <td>8.06</td>\n",
       "      <td>2001</td>\n",
       "      <td>103</td>\n",
       "      <td>0f1c63</td>\n",
       "    </tr>\n",
       "    <tr>\n",
       "      <th>3</th>\n",
       "      <td>294.93</td>\n",
       "      <td>282.34</td>\n",
       "      <td>9.37</td>\n",
       "      <td>8.08</td>\n",
       "      <td>2001</td>\n",
       "      <td>104</td>\n",
       "      <td>0f1c63</td>\n",
       "    </tr>\n",
       "    <tr>\n",
       "      <th>4</th>\n",
       "      <td>289.00</td>\n",
       "      <td>282.48</td>\n",
       "      <td>9.98</td>\n",
       "      <td>8.56</td>\n",
       "      <td>2001</td>\n",
       "      <td>105</td>\n",
       "      <td>0f1c63</td>\n",
       "    </tr>\n",
       "    <tr>\n",
       "      <th>...</th>\n",
       "      <td>...</td>\n",
       "      <td>...</td>\n",
       "      <td>...</td>\n",
       "      <td>...</td>\n",
       "      <td>...</td>\n",
       "      <td>...</td>\n",
       "      <td>...</td>\n",
       "    </tr>\n",
       "    <tr>\n",
       "      <th>1147</th>\n",
       "      <td>333.50</td>\n",
       "      <td>6.35</td>\n",
       "      <td>5.23</td>\n",
       "      <td>4.52</td>\n",
       "      <td>2001</td>\n",
       "      <td>1220</td>\n",
       "      <td>0f1c64</td>\n",
       "    </tr>\n",
       "    <tr>\n",
       "      <th>1148</th>\n",
       "      <td>203.44</td>\n",
       "      <td>149.45</td>\n",
       "      <td>5.73</td>\n",
       "      <td>5.07</td>\n",
       "      <td>2001</td>\n",
       "      <td>1221</td>\n",
       "      <td>0f1c64</td>\n",
       "    </tr>\n",
       "    <tr>\n",
       "      <th>1149</th>\n",
       "      <td>244.67</td>\n",
       "      <td>236.84</td>\n",
       "      <td>6.05</td>\n",
       "      <td>5.24</td>\n",
       "      <td>2001</td>\n",
       "      <td>1222</td>\n",
       "      <td>0f1c64</td>\n",
       "    </tr>\n",
       "    <tr>\n",
       "      <th>1150</th>\n",
       "      <td>293.86</td>\n",
       "      <td>341.04</td>\n",
       "      <td>5.64</td>\n",
       "      <td>4.41</td>\n",
       "      <td>2001</td>\n",
       "      <td>1223</td>\n",
       "      <td>0f1c64</td>\n",
       "    </tr>\n",
       "    <tr>\n",
       "      <th>1151</th>\n",
       "      <td>243.78</td>\n",
       "      <td>210.51</td>\n",
       "      <td>7.16</td>\n",
       "      <td>4.58</td>\n",
       "      <td>2001</td>\n",
       "      <td>1224</td>\n",
       "      <td>0f1c64</td>\n",
       "    </tr>\n",
       "  </tbody>\n",
       "</table>\n",
       "<p>1152 rows × 7 columns</p>\n",
       "</div>"
      ],
      "text/plain": [
       "      winddirection_100m  winddirection_40m  windspeed_100m  windspeed_40m  \\\n",
       "0                 304.61             305.85            8.46           6.54   \n",
       "1                 295.51             292.57            9.20           7.33   \n",
       "2                 291.72             288.00            9.69           8.06   \n",
       "3                 294.93             282.34            9.37           8.08   \n",
       "4                 289.00             282.48            9.98           8.56   \n",
       "...                  ...                ...             ...            ...   \n",
       "1147              333.50               6.35            5.23           4.52   \n",
       "1148              203.44             149.45            5.73           5.07   \n",
       "1149              244.67             236.84            6.05           5.24   \n",
       "1150              293.86             341.04            5.64           4.41   \n",
       "1151              243.78             210.51            7.16           4.58   \n",
       "\n",
       "      year  mohr   index  \n",
       "0     2001   101  0f1c63  \n",
       "1     2001   102  0f1c63  \n",
       "2     2001   103  0f1c63  \n",
       "3     2001   104  0f1c63  \n",
       "4     2001   105  0f1c63  \n",
       "...    ...   ...     ...  \n",
       "1147  2001  1220  0f1c64  \n",
       "1148  2001  1221  0f1c64  \n",
       "1149  2001  1222  0f1c64  \n",
       "1150  2001  1223  0f1c64  \n",
       "1151  2001  1224  0f1c64  \n",
       "\n",
       "[1152 rows x 7 columns]"
      ]
     },
     "execution_count": 5,
     "metadata": {},
     "output_type": "execute_result"
    }
   ],
   "source": [
    "df"
   ]
  },
  {
   "cell_type": "code",
   "execution_count": 6,
   "metadata": {},
   "outputs": [
    {
     "data": {
      "text/plain": [
       "index\n",
       "0f1c63    576\n",
       "0f1c64    576\n",
       "Name: count, dtype: int64"
      ]
     },
     "execution_count": 6,
     "metadata": {},
     "output_type": "execute_result"
    }
   ],
   "source": [
    "df['index'].value_counts()"
   ]
  },
  {
   "cell_type": "markdown",
   "metadata": {},
   "source": [
    "Each index maps to an unique coordinate on the grid. We have 2 unique indexes here because user requested data for 2 nearest locations.\n"
   ]
  },
  {
   "cell_type": "markdown",
   "metadata": {},
   "source": [
    "#### Location gdf for the wtk data"
   ]
  },
  {
   "cell_type": "code",
   "execution_count": 7,
   "metadata": {},
   "outputs": [
    {
     "name": "stdout",
     "output_type": "stream",
     "text": [
      "          index   latitude   longitude                     geometry\n",
      "0        000000  50.982258 -162.061630  POINT (-162.06163 50.98226)\n",
      "1        000001  51.010925 -162.099060  POINT (-162.09906 51.01092)\n",
      "2        000002  51.039566 -162.136520  POINT (-162.13652 51.03957)\n",
      "3        000003  51.068195 -162.174010   POINT (-162.17401 51.0682)\n",
      "4        000004  51.096817 -162.211580  POINT (-162.21158 51.09682)\n",
      "...         ...        ...         ...                          ...\n",
      "2599772  27ab5c  20.954578  -61.076538   POINT (-61.07654 20.95458)\n",
      "2599773  27ab5d  20.983326  -61.056640   POINT (-61.05664 20.98333)\n",
      "2599774  27ab5e  21.012074  -61.036743   POINT (-61.03674 21.01207)\n",
      "2599775  27ab5f  21.040829  -61.016785   POINT (-61.01678 21.04083)\n",
      "2599776  27ab60  21.069584  -60.996857   POINT (-60.99686 21.06958)\n",
      "\n",
      "[2599777 rows x 4 columns]\n"
     ]
    }
   ],
   "source": [
    "loc_gdf = wtk_1224_client.get_location_gdf()\n",
    "print(loc_gdf)"
   ]
  },
  {
   "cell_type": "code",
   "execution_count": 8,
   "metadata": {},
   "outputs": [
    {
     "name": "stdout",
     "output_type": "stream",
     "text": [
      "         index   latitude  longitude                     geometry\n",
      "990307  0f1c63  39.913254 -105.23915  POINT (-105.23915 39.91325)\n",
      "         index   latitude  longitude                    geometry\n",
      "990308  0f1c64  39.950325  -105.2381  POINT (-105.2381 39.95032)\n"
     ]
    }
   ],
   "source": [
    "# Retrieving coordinates from index values\n",
    "print(loc_gdf.loc[loc_gdf['index'] == '0f1c63'])\n",
    "print(loc_gdf.loc[loc_gdf['index'] == '0f1c64'])"
   ]
  },
  {
   "cell_type": "markdown",
   "metadata": {},
   "source": [
    "#### Fetching windspeed and winddirection timeseries dataframe at height 20m for a 2 locations(the second one as the nearest neighbor) for year 2001.\n"
   ]
  },
  {
   "cell_type": "code",
   "execution_count": 9,
   "metadata": {},
   "outputs": [
    {
     "name": "stderr",
     "output_type": "stream",
     "text": [
      "Fetching results...: 1polls [00:00,  1.60polls/s]\n"
     ]
    }
   ],
   "source": [
    "df = wtk_1224_client.fetch_timeseries_1224(lat=39.92824,long=-105.23437,heights=[20],years=[2001,2004],n_nearest=2)"
   ]
  },
  {
   "cell_type": "code",
   "execution_count": 10,
   "metadata": {},
   "outputs": [
    {
     "data": {
      "text/plain": [
       "year\n",
       "2004    576\n",
       "2001    576\n",
       "Name: count, dtype: int64"
      ]
     },
     "execution_count": 10,
     "metadata": {},
     "output_type": "execute_result"
    }
   ],
   "source": [
    "df['year'].value_counts()"
   ]
  },
  {
   "cell_type": "code",
   "execution_count": 11,
   "metadata": {},
   "outputs": [
    {
     "data": {
      "text/plain": [
       "index\n",
       "0f1c64    576\n",
       "0f1c63    576\n",
       "Name: count, dtype: int64"
      ]
     },
     "execution_count": 11,
     "metadata": {},
     "output_type": "execute_result"
    }
   ],
   "source": [
    "df['index'].value_counts()"
   ]
  },
  {
   "cell_type": "markdown",
   "metadata": {},
   "source": [
    "We have 576 records because we have data for 2 location per year. \n"
   ]
  },
  {
   "cell_type": "markdown",
   "metadata": {},
   "source": [
    "Note: If you print the columns using wtk_1224_client.get_column_names(), the height 20m doesn't exist in the data. So, the data at the adjacent heights will be fetched.\n"
   ]
  },
  {
   "cell_type": "code",
   "execution_count": null,
   "metadata": {},
   "outputs": [],
   "source": []
  }
 ],
 "metadata": {
  "kernelspec": {
   "display_name": ".venv",
   "language": "python",
   "name": "python3"
  },
  "language_info": {
   "codemirror_mode": {
    "name": "ipython",
    "version": 3
   },
   "file_extension": ".py",
   "mimetype": "text/x-python",
   "name": "python",
   "nbconvert_exporter": "python",
   "pygments_lexer": "ipython3",
   "version": "3.12.8"
  }
 },
 "nbformat": 4,
 "nbformat_minor": 2
}
