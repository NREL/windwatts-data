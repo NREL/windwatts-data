{
 "cells": [
  {
   "cell_type": "markdown",
   "metadata": {},
   "source": [
    "### This notebook gives a basic idea of how to setup and use the windwatts_data package.\n",
    "\n",
    "#### Note: The users AWS credentials should be exported in the created environment."
   ]
  },
  {
   "cell_type": "code",
   "execution_count": 1,
   "metadata": {},
   "outputs": [],
   "source": [
    "# Import class WTKLedClient1224 to work with WTK-Led 1224 Data\n",
    "from windwatts_data import WTKLedClient1224"
   ]
  },
  {
   "cell_type": "code",
   "execution_count": null,
   "metadata": {},
   "outputs": [
    {
     "name": "stderr",
     "output_type": "stream",
     "text": [
      "Fetching results...: 3polls [00:03,  1.25s/polls]\n"
     ]
    }
   ],
   "source": [
    "# give path to the created json config file as config_path\n",
    "wtk_1224_client = WTKLedClient1224(config_path='./1224_config.json')"
   ]
  },
  {
   "cell_type": "code",
   "execution_count": 4,
   "metadata": {},
   "outputs": [
    {
     "name": "stdout",
     "output_type": "stream",
     "text": [
      "mohr\n",
      "precipitation_0m\n",
      "pressure_0m\n",
      "pressure_100m\n",
      "pressure_200m\n",
      "pressure_500m\n",
      "temperature_1000m\n",
      "temperature_100m\n",
      "temperature_200m\n",
      "temperature_2m\n",
      "temperature_300m\n",
      "temperature_30m\n",
      "temperature_40m\n",
      "temperature_500m\n",
      "temperature_60m\n",
      "temperature_80m\n",
      "winddirection_1000m\n",
      "winddirection_100m\n",
      "winddirection_10m\n",
      "winddirection_120m\n",
      "winddirection_140m\n",
      "winddirection_160m\n",
      "winddirection_180m\n",
      "winddirection_200m\n",
      "winddirection_250m\n",
      "winddirection_300m\n",
      "winddirection_30m\n",
      "winddirection_40m\n",
      "winddirection_60m\n",
      "winddirection_80m\n",
      "winddirection_500m\n",
      "windspeed_1000m\n",
      "windspeed_100m\n",
      "windspeed_10m\n",
      "windspeed_120m\n",
      "windspeed_140m\n",
      "windspeed_160m\n",
      "windspeed_180m\n",
      "windspeed_200m\n",
      "windspeed_250m\n",
      "windspeed_300m\n",
      "windspeed_40m\n",
      "windspeed_30m\n",
      "windspeed_500m\n",
      "windspeed_60m\n",
      "windspeed_80m\n",
      "year\n",
      "varset\n",
      "index\n"
     ]
    }
   ],
   "source": [
    "cols = wtk_1224_client.get_column_names()\n",
    "for col in cols:\n",
    "    print(col)"
   ]
  },
  {
   "cell_type": "markdown",
   "metadata": {},
   "source": [
    "It is suggested to go through the columns as it helps in understanding at what heights does the data have for columns like windspeed and winddirection.\n"
   ]
  },
  {
   "cell_type": "code",
   "execution_count": 5,
   "metadata": {},
   "outputs": [
    {
     "name": "stdout",
     "output_type": "stream",
     "text": [
      "          index   latitude   longitude                     geometry\n",
      "0        000000  50.982258 -162.061630  POINT (-162.06163 50.98226)\n",
      "1        000001  51.010925 -162.099060  POINT (-162.09906 51.01092)\n",
      "2        000002  51.039566 -162.136520  POINT (-162.13652 51.03957)\n",
      "3        000003  51.068195 -162.174010   POINT (-162.17401 51.0682)\n",
      "4        000004  51.096817 -162.211580  POINT (-162.21158 51.09682)\n",
      "...         ...        ...         ...                          ...\n",
      "2599772  27ab5c  20.954578  -61.076538   POINT (-61.07654 20.95458)\n",
      "2599773  27ab5d  20.983326  -61.056640   POINT (-61.05664 20.98333)\n",
      "2599774  27ab5e  21.012074  -61.036743   POINT (-61.03674 21.01207)\n",
      "2599775  27ab5f  21.040829  -61.016785   POINT (-61.01678 21.04083)\n",
      "2599776  27ab60  21.069584  -60.996857   POINT (-60.99686 21.06958)\n",
      "\n",
      "[2599777 rows x 4 columns]\n"
     ]
    }
   ],
   "source": [
    "# Print location gdf of the wtk data to investigate about available grid locations.\n",
    "print(wtk_1224_client.get_location_gdf())"
   ]
  }
 ],
 "metadata": {
  "kernelspec": {
   "display_name": ".venv",
   "language": "python",
   "name": "python3"
  },
  "language_info": {
   "codemirror_mode": {
    "name": "ipython",
    "version": 3
   },
   "file_extension": ".py",
   "mimetype": "text/x-python",
   "name": "python",
   "nbconvert_exporter": "python",
   "pygments_lexer": "ipython3",
   "version": "3.12.8"
  }
 },
 "nbformat": 4,
 "nbformat_minor": 2
}
