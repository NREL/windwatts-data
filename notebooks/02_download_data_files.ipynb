{
 "cells": [
  {
   "cell_type": "markdown",
   "metadata": {},
   "source": [
    "### This notebook guides the user regarding how to download timeseries data as .csv files.\n",
    "\n",
    "#### Note: The users AWS credentials should be exported in the created environment."
   ]
  },
  {
   "cell_type": "code",
   "execution_count": 1,
   "metadata": {},
   "outputs": [],
   "source": [
    "# import package\n",
    "from windwatts_data import WTKLedClient1224"
   ]
  },
  {
   "cell_type": "code",
   "execution_count": 2,
   "metadata": {},
   "outputs": [
    {
     "name": "stderr",
     "output_type": "stream",
     "text": [
      "Fetching results...: 3polls [00:03,  1.25s/polls]\n"
     ]
    }
   ],
   "source": [
    "# Initialize object to the WTKLedClient\n",
    "# Since the config file is in same directory \"notebooks\" as the \".ipynb\" file, the below config path works.\n",
    "wtk_1224_client = WTKLedClient1224(config_path='./1224_config.json')"
   ]
  },
  {
   "cell_type": "code",
   "execution_count": 3,
   "metadata": {},
   "outputs": [
    {
     "name": "stdout",
     "output_type": "stream",
     "text": [
      "Downloading 1224/year=2001/varset=all/index=0001ef/0001ef_2001_all.csv.gz from S3...\n",
      "Downloaded: downloads/0001ef_2001_all.csv.gz\n",
      "Downloading 1224/year=2002/varset=all/index=0001ef/0001ef_2002_all.csv.gz from S3...\n",
      "Downloaded: downloads/0001ef_2002_all.csv.gz\n"
     ]
    },
    {
     "data": {
      "text/plain": [
       "['downloads/0001ef_2001_all.csv.gz', 'downloads/0001ef_2002_all.csv.gz']"
      ]
     },
     "execution_count": 3,
     "metadata": {},
     "output_type": "execute_result"
    }
   ],
   "source": [
    "# Downloading data of nearest location for 2 years with respect to lat and long.\n",
    "wtk_1224_client.download_1224_data(lat=51.0,long=-162.0,years=[2001,2002])"
   ]
  },
  {
   "cell_type": "code",
   "execution_count": 4,
   "metadata": {},
   "outputs": [
    {
     "name": "stdout",
     "output_type": "stream",
     "text": [
      "Downloading 1224/year=2008/varset=all/index=0001ef/0001ef_2008_all.csv.gz from S3...\n",
      "Downloaded: downloads/0001ef_2008_all.csv.gz\n",
      "Downloading 1224/year=2008/varset=all/index=0003df/0003df_2008_all.csv.gz from S3...\n",
      "Downloaded: downloads/0003df_2008_all.csv.gz\n",
      "Downloading 1224/year=2008/varset=all/index=0003e0/0003e0_2008_all.csv.gz from S3...\n",
      "Downloaded: downloads/0003e0_2008_all.csv.gz\n",
      "Downloading 1224/year=2008/varset=all/index=0001f0/0001f0_2008_all.csv.gz from S3...\n",
      "Downloaded: downloads/0001f0_2008_all.csv.gz\n"
     ]
    },
    {
     "data": {
      "text/plain": [
       "['downloads/0001ef_2008_all.csv.gz',\n",
       " 'downloads/0003df_2008_all.csv.gz',\n",
       " 'downloads/0003e0_2008_all.csv.gz',\n",
       " 'downloads/0001f0_2008_all.csv.gz']"
      ]
     },
     "execution_count": 4,
     "metadata": {},
     "output_type": "execute_result"
    }
   ],
   "source": [
    "## Downloading data of 4 nearest locations for a single year with respect to lat and long. Data is available for years 2001 to 2020.\n",
    "wtk_1224_client.download_1224_data(lat=51.0,long=-162.0,n_nearest=4,years=[2008])"
   ]
  },
  {
   "cell_type": "markdown",
   "metadata": {},
   "source": [
    "Please refer to package documentation for more details about this function."
   ]
  }
 ],
 "metadata": {
  "kernelspec": {
   "display_name": ".venv",
   "language": "python",
   "name": "python3"
  },
  "language_info": {
   "codemirror_mode": {
    "name": "ipython",
    "version": 3
   },
   "file_extension": ".py",
   "mimetype": "text/x-python",
   "name": "python",
   "nbconvert_exporter": "python",
   "pygments_lexer": "ipython3",
   "version": "3.12.8"
  }
 },
 "nbformat": 4,
 "nbformat_minor": 2
}
